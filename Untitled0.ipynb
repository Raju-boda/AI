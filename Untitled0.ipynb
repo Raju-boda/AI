{
  "nbformat": 4,
  "nbformat_minor": 0,
  "metadata": {
    "colab": {
      "name": "Untitled0.ipynb",
      "provenance": [],
      "authorship_tag": "ABX9TyO+/ltNP+MFMC1vA5FU19kH",
      "include_colab_link": true
    },
    "kernelspec": {
      "name": "python3",
      "display_name": "Python 3"
    },
    "language_info": {
      "name": "python"
    }
  },
  "cells": [
    {
      "cell_type": "markdown",
      "metadata": {
        "id": "view-in-github",
        "colab_type": "text"
      },
      "source": [
        "<a href=\"https://colab.research.google.com/github/Raju-boda/AI/blob/main/Untitled0.ipynb\" target=\"_parent\"><img src=\"https://colab.research.google.com/assets/colab-badge.svg\" alt=\"Open In Colab\"/></a>"
      ]
    },
    {
      "cell_type": "code",
      "metadata": {
        "colab": {
          "base_uri": "https://localhost:8080/"
        },
        "id": "fElzhaInydYC",
        "outputId": "5f77bdcb-05e3-4a03-c4bf-2ee67d445dda"
      },
      "source": [
        "from scipy.optimize import linprog\n",
        "obj=[-50,-120]\n",
        "A_ieq=[[7000,2000],[10,30],[1,1]]\n",
        "b_ieq=[700000,1200,110]\n",
        "limit=[(0,float('inf')),(0,float('inf'))]\n",
        "opt=linprog(c=obj,A_ub=A_ieq,b_ub=b_ieq,A_eq=None,b_eq=None,bounds=limit,method=\"simplex\")\n",
        "opt.x\n",
        "print('Wheat in hectares of land : ',round(opt.x[0]))\n",
        "print('Barley in hectares of land : ',round(opt.x[1]))\n",
        "print('The maximum profit held by company is ',(50*(round(opt.x[0]))+120*(round(opt.x[1]))))"
      ],
      "execution_count": 14,
      "outputs": [
        {
          "output_type": "stream",
          "text": [
            "Wheat in hectares of land :  98\n",
            "Barley in hectares of land :  7\n",
            "The maximum profit held by company is  5740\n"
          ],
          "name": "stdout"
        }
      ]
    }
  ]
}