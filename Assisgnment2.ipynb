{
  "nbformat": 4,
  "nbformat_minor": 0,
  "metadata": {
    "colab": {
      "name": "Assisgnment2.ipynb",
      "provenance": [],
      "collapsed_sections": [],
      "toc_visible": true,
      "authorship_tag": "ABX9TyMS4Fg8QaoyVpjNiEfqgSQG",
      "include_colab_link": true
    },
    "kernelspec": {
      "display_name": "Python 3",
      "name": "python3"
    },
    "language_info": {
      "name": "python"
    }
  },
  "cells": [
    {
      "cell_type": "markdown",
      "metadata": {
        "id": "view-in-github",
        "colab_type": "text"
      },
      "source": [
        "<a href=\"https://colab.research.google.com/github/Raju-boda/AI/blob/main/Assisgnment2.ipynb\" target=\"_parent\"><img src=\"https://colab.research.google.com/assets/colab-badge.svg\" alt=\"Open In Colab\"/></a>"
      ]
    },
    {
      "cell_type": "code",
      "metadata": {
        "id": "fK77zHxM6M60"
      },
      "source": [
        "import numpy as np\n",
        "x=np.random.uniform(-100,100)\n",
        "eta=0.1\n",
        "max_iter=200"
      ],
      "execution_count": 18,
      "outputs": []
    },
    {
      "cell_type": "code",
      "metadata": {
        "colab": {
          "base_uri": "https://localhost:8080/"
        },
        "id": "hioNeA1D8DM-",
        "outputId": "abdd88e5-9cee-4868-b3cd-75762a0ec1cc"
      },
      "source": [
        "iter=1\n",
        "while iter<=max_iter:\n",
        "  slope=4*x*x*x+6*x\n",
        "  step_length=-eta*slope\n",
        "  x=x+step_length \n",
        "  iter=iter+1\n",
        "print(\"value of control variable = \",round(x))\n",
        "obj=x*x*x*x+3*x*x+10\n",
        "print(\"value of objective function = \",obj)"
      ],
      "execution_count": 20,
      "outputs": [
        {
          "output_type": "stream",
          "text": [
            "value of control variable =  0\n",
            "value of objective function =  10.0\n"
          ],
          "name": "stdout"
        }
      ]
    }
  ]
}